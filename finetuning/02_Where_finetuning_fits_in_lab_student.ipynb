{
 "cells": [
  {
   "cell_type": "markdown",
   "source": [
    "# Finetuning data: compare to pretraining and basic preparation"
   ],
   "metadata": {
    "collapsed": false
   },
   "id": "e9a1367009f5aa6a"
  },
  {
   "cell_type": "code",
   "execution_count": null,
   "outputs": [],
   "source": [
    "import jsonlines\n",
    "import itertools\n",
    "import pandas as pd\n",
    "from pprint import pprint\n",
    "\n",
    "import datasets\n",
    "from datasets import load_dataset"
   ],
   "metadata": {
    "collapsed": false
   },
   "id": "3d7db6005c0a3f46"
  },
  {
   "cell_type": "markdown",
   "source": [
    "### Look at pretraining data set"
   ],
   "metadata": {
    "collapsed": false
   },
   "id": "ce012386c794a2fc"
  },
  {
   "cell_type": "markdown",
   "source": [
    "**Sorry**, \"The Pile\" dataset is currently relocating to a new home and so we can't show you the same example that is in the video. Here is another dataset, the [\"Common Crawl\"](https://huggingface.co/datasets/c4) dataset."
   ],
   "metadata": {
    "collapsed": false
   },
   "id": "150478636c97295f"
  },
  {
   "cell_type": "code",
   "execution_count": null,
   "outputs": [],
   "source": [
    "#pretrained_dataset = load_dataset(\"EleutherAI/pile\", split=\"train\", streaming=True)\n",
    "\n",
    "pretrained_dataset = load_dataset(\"c4\", \"en\", split=\"train\", streaming=True)\n"
   ],
   "metadata": {
    "collapsed": false
   },
   "id": "c7b98a5a6c75bfee"
  },
  {
   "cell_type": "code",
   "execution_count": null,
   "outputs": [],
   "source": [
    "n = 5\n",
    "print(\"Pretrained dataset:\")\n",
    "top_n = itertools.islice(pretrained_dataset, n)\n",
    "for i in top_n:\n",
    "  print(i)"
   ],
   "metadata": {
    "collapsed": false
   },
   "id": "a8ace1416a3d9e07"
  },
  {
   "cell_type": "markdown",
   "source": [
    "### Contrast with company finetuning dataset you will be using"
   ],
   "metadata": {
    "collapsed": false
   },
   "id": "fb86c20219a9a428"
  },
  {
   "cell_type": "code",
   "execution_count": null,
   "outputs": [],
   "source": [
    "# URL of the instruction dataset to be downloaded\n",
    "url = \"https://huggingface.co/datasets/kotzeje/lamini_docs.jsonl\"\n",
    "\n",
    "# Local path where the file will be saved\n",
    "file_path = \"./docs/lamini_docs.jsonl\"\n",
    "\n",
    "import os\n",
    "import requests\n",
    "\n",
    "# Check if the file already exists locally\n",
    "if os.path.exists(file_path):\n",
    "  print(f\"The file {file_path} already exists locally.\")\n",
    "else:\n",
    "  # Download the file\n",
    "  try:\n",
    "    response = requests.get(url)\n",
    "    # Check if the download was successful\n",
    "    if response.status_code == 200:\n",
    "      with open(file_path, 'wb') as file:\n",
    "        file.write(response.content)\n",
    "        print(f\"File downloaded successfully and saved as {file_path}.\")\n",
    "    else:\n",
    "      print(f\"Failed to download the file. Status code: {response.status_code}\")\n",
    "  except Exception as e:\n",
    "    print(f\"An error occurred during downloading: {e}\")"
   ],
   "metadata": {
    "collapsed": false
   },
   "id": "e83fc5973c37fbd3"
  },
  {
   "cell_type": "code",
   "execution_count": null,
   "outputs": [],
   "source": [
    "filename = \"./docs/lamini_docs.jsonl\"\n",
    "instruction_dataset_df = pd.read_json(filename, lines=True)\n",
    "instruction_dataset_df"
   ],
   "metadata": {
    "collapsed": false
   },
   "id": "8b8466b35c1020c4"
  },
  {
   "cell_type": "markdown",
   "source": [
    "### Various ways of formatting your data"
   ],
   "metadata": {
    "collapsed": false
   },
   "id": "dbd0502f0f6b5d8f"
  },
  {
   "cell_type": "code",
   "execution_count": null,
   "outputs": [],
   "source": [
    "examples = instruction_dataset_df.to_dict()\n",
    "text = examples[\"question\"][0] + examples[\"answer\"][0]\n",
    "text"
   ],
   "metadata": {
    "collapsed": false
   },
   "id": "8049c33e8173b8a4"
  },
  {
   "cell_type": "code",
   "execution_count": null,
   "outputs": [],
   "source": [
    "if \"question\" in examples and \"answer\" in examples:\n",
    "  text = examples[\"question\"][0] + examples[\"answer\"][0]\n",
    "elif \"instruction\" in examples and \"response\" in examples:\n",
    "  text = examples[\"instruction\"][0] + examples[\"response\"][0]\n",
    "elif \"input\" in examples and \"output\" in examples:\n",
    "  text = examples[\"input\"][0] + examples[\"output\"][0]\n",
    "else:\n",
    "  text = examples[\"text\"][0]"
   ],
   "metadata": {
    "collapsed": false
   },
   "id": "3ddf5fd41d6d9280"
  },
  {
   "cell_type": "code",
   "execution_count": null,
   "outputs": [],
   "source": [
    "prompt_template_qa = \"\"\"### Question:\n",
    "{question}\n",
    "\n",
    "### Answer:\n",
    "{answer}\"\"\""
   ],
   "metadata": {
    "collapsed": false
   },
   "id": "a27c8755abc9fb86"
  },
  {
   "cell_type": "code",
   "execution_count": null,
   "outputs": [],
   "source": [
    "question = examples[\"question\"][0]\n",
    "answer = examples[\"answer\"][0]\n",
    "\n",
    "text_with_prompt_template = prompt_template_qa.format(question=question, answer=answer)\n",
    "text_with_prompt_template"
   ],
   "metadata": {
    "collapsed": false
   },
   "id": "7c471eee4133c816"
  },
  {
   "cell_type": "code",
   "execution_count": null,
   "outputs": [],
   "source": [
    "prompt_template_q = \"\"\"### Question:\n",
    "{question}\n",
    "\n",
    "### Answer:\"\"\""
   ],
   "metadata": {
    "collapsed": false
   },
   "id": "157eb7004d0cee14"
  },
  {
   "cell_type": "code",
   "execution_count": null,
   "outputs": [],
   "source": [
    "num_examples = len(examples[\"question\"])\n",
    "finetuning_dataset_text_only = []\n",
    "finetuning_dataset_question_answer = []\n",
    "for i in range(num_examples):\n",
    "  question = examples[\"question\"][i]\n",
    "  answer = examples[\"answer\"][i]\n",
    "\n",
    "  text_with_prompt_template_qa = prompt_template_qa.format(question=question, answer=answer)\n",
    "  finetuning_dataset_text_only.append({\"text\": text_with_prompt_template_qa})\n",
    "\n",
    "  text_with_prompt_template_q = prompt_template_q.format(question=question)\n",
    "  finetuning_dataset_question_answer.append({\"question\": text_with_prompt_template_q, \"answer\": answer})"
   ],
   "metadata": {
    "collapsed": false
   },
   "id": "d2b2025950c730cf"
  },
  {
   "cell_type": "code",
   "execution_count": null,
   "outputs": [],
   "source": [
    "pprint(finetuning_dataset_text_only[0])"
   ],
   "metadata": {
    "collapsed": false
   },
   "id": "5dd4b17d12fd4ac"
  },
  {
   "cell_type": "code",
   "execution_count": null,
   "outputs": [],
   "source": [
    "pprint(finetuning_dataset_question_answer[0])"
   ],
   "metadata": {
    "collapsed": false
   },
   "id": "27f8561b80912778"
  },
  {
   "cell_type": "markdown",
   "source": [
    "### Common ways of storing your data"
   ],
   "metadata": {
    "collapsed": false
   },
   "id": "ca63540c6c1b758e"
  },
  {
   "cell_type": "code",
   "execution_count": null,
   "outputs": [],
   "source": [
    "with jsonlines.open(f'lamini_docs_processed.jsonl', 'w') as writer:\n",
    "    writer.write_all(finetuning_dataset_question_answer)"
   ],
   "metadata": {
    "collapsed": false
   },
   "id": "459b2449554e73d8"
  },
  {
   "cell_type": "code",
   "execution_count": null,
   "outputs": [],
   "source": [
    "finetuning_dataset_name = \"lamini/lamini_docs\"\n",
    "finetuning_dataset = load_dataset(finetuning_dataset_name)\n",
    "print(finetuning_dataset)"
   ],
   "metadata": {
    "collapsed": false
   },
   "id": "c99523095bdc37da"
  },
  {
   "cell_type": "code",
   "execution_count": null,
   "outputs": [],
   "source": [],
   "metadata": {
    "collapsed": false
   },
   "id": "2ac2a663b8ee38d0"
  }
 ],
 "metadata": {
  "kernelspec": {
   "display_name": "Python 3",
   "language": "python",
   "name": "python3"
  },
  "language_info": {
   "codemirror_mode": {
    "name": "ipython",
    "version": 2
   },
   "file_extension": ".py",
   "mimetype": "text/x-python",
   "name": "python",
   "nbconvert_exporter": "python",
   "pygments_lexer": "ipython2",
   "version": "2.7.6"
  }
 },
 "nbformat": 4,
 "nbformat_minor": 5
}
